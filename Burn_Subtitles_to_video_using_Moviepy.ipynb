{
 "cells": [
  {
   "cell_type": "markdown",
   "metadata": {
    "colab_type": "text",
    "id": "view-in-github"
   },
   "source": [
    "<a href=\"https://colab.research.google.com/github/ramsrigouthamg/Supertranslate.ai/blob/main/Burn_Subtitles_Into_Video/Burn_Subtitles_to_video_using_Moviepy.ipynb\" target=\"_parent\"><img src=\"https://colab.research.google.com/assets/colab-badge.svg\" alt=\"Open In Colab\"/></a>"
   ]
  },
  {
   "cell_type": "markdown",
   "metadata": {
    "id": "RFpEHORi7QUP"
   },
   "source": [
    "## How to permanently add or burn subtitles to a video using Moviepy\n",
    "\n",
    "For files (mp4 and srt) used in this repository check: https://github.com/ramsrigouthamg/Supertranslate.ai\n",
    "\n",
    "Author: [Ramsri Goutham](https://twitter.com/ramsri_goutham) "
   ]
  },
  {
   "cell_type": "code",
   "execution_count": 3,
   "metadata": {},
   "outputs": [],
   "source": [
    "from bs4 import BeautifulSoup\n",
    "from bisect import bisect_left\n",
    "from calendar import month_name\n",
    "\n",
    "import requests\n",
    "\n",
    "# link = \"https://www.churchofjesuschrist.org/study/general-conference/2016/04/choices?lang=deu\"\n",
    "\n",
    "def get_download_link(link):\n",
    "    lds,link_suffix = link.split(\".org\")\n",
    "    conf_info,talk_lang_info = link_suffix.rsplit(\"/\", 1)\n",
    "    talk,lang = talk_lang_info.rsplit(\"?\",1)\n",
    "    \n",
    "    #https://media2.ldscdn.org/assets/general-conference/april-2016-general-conference/2016-04-4010-thomas-s-monson-1080p-deu.mp4?download=true\n",
    "    #class = d-links link-1080-a06a8bdc93632558c9e7f284f6e9a847768e8621\n",
    "    r = requests.get(link)\n",
    "    soup=BeautifulSoup(r.content,\"html.parser\", multi_valued_attributes=None)\n",
    "    \n",
    "    all_links = [x.get('href') for x in soup.find_all('a')]\n",
    "    \n",
    "    ## Figure out the 4 digit code for this talk\n",
    "    \n",
    "    # get reference indices of the sessions\n",
    "    sessions = [\"priesthood-session\", \"womens-session\", \"saturday-morning-session\", \"saturday-afternoon-session\", \"saturday-evening-session\", \"sunday-morning-session\", \"sunday-afternoon-session\", \"sunday-evening-session\"]\n",
    "    session_indices = []\n",
    "    for s in sessions:\n",
    "        try:\n",
    "            session_indices.append( all_links.index((conf_info + '/' + s + '?' + lang)))\n",
    "        except:\n",
    "            continue\n",
    "    session_indices.sort()\n",
    "    \n",
    "    # find the index of our talk\n",
    "    my_index = all_links.index(link_suffix)\n",
    "    # print(session_indices, my_index)\n",
    "    \n",
    "    # find out which session we're in\n",
    "    # which session number is this? (determines first digit, 0-indexed)\n",
    "    talk_session_number = bisect_left(session_indices, my_index) - 1\n",
    "    \n",
    "    # second number\n",
    "    second = my_index - session_indices[talk_session_number]\n",
    "    \n",
    "    # combine 4 digit code\n",
    "    talk_id =  str(talk_session_number) + \"0\" + str(second) + \"0\"\n",
    "    # print(talk_session_number, second, talk_id)\n",
    "    \n",
    "    ## get download link\n",
    "    # determine month\n",
    "    month = \"\"\n",
    "    if conf_info[-2:] == \"04\":\n",
    "        month = \"april\"\n",
    "    elif conf_info[-2:] == \"10\":\n",
    "        month = \"october\"\n",
    "    else:\n",
    "        print(\"ERROR, weird month in URL\")\n",
    "        quit()\n",
    "    \n",
    "    year = conf_info[-7:-3]\n",
    "    \n",
    "    talk_text=soup.find(class_=\"body-block\").get_text()\n",
    "    speaker = soup.find(class_=\"byline\").get_text()\n",
    "    # print(speaker)\n",
    "    speaker = speaker.split(\" \", 1)[1]\n",
    "    speaker = speaker.split('\\n')[0]\n",
    "    speaker = speaker.replace(u'\\xa0', u' ') # remove weird encoding chars\n",
    "    # print(speaker.split(' '))\n",
    "    speaker = '-'.join(speaker.split(' '))\n",
    "    speaker = speaker.replace(\".\", '').lower()\n",
    "    # print(speaker)\n",
    "    \n",
    "    download_link=\"https://media2.ldscdn.org/assets/general-conference/\" + month + \"-\" + str(year) + \"-general-conference/\" + str(year) + \"-\" + conf_info[-2:] + \"-\" + talk_id + \"-\" + speaker + \"-1080p-deu.mp4?download=true\"\n",
    "    return download_link"
   ]
  },
  {
   "cell_type": "code",
   "execution_count": 4,
   "metadata": {},
   "outputs": [
    {
     "name": "stdout",
     "output_type": "stream",
     "text": [
      "Zu unserer grundlegendsten Lehre gehört das Wissen, dass wir Kinder eines lebendigen Gottes sind. Deshalb ist einer seiner heiligsten Namen Vater oder Vater im Himmel. Diese Lehre ist von Propheten in allen Zeitaltern unmissverständlich verkündet worden. Als Mose vom Satan versucht wurde, wies er ihn mit den Worten zurück, Wer bist du? Denn siehe, ich bin ein Sohn Gottes. Der Psalmist verkündete dem Volk Israel, Ihr alle seid Söhne des Höchsten. Paulus erklärte den Athenern auf dem Areopak, sie seien von Gottes Art. Joseph Smith und Signe Rigdon sahen den Vater und den Sohn in einer Vision. Eine himmlische Stimme verkündete ihnen, dass die Bewohner der Welten für Gott gezeugte Söhne und Töchter sind. 1995 haben 15 lebende Apostel und Propheten bestätigt, alle Menschen sind als Abbild Gottes erschaffen. Jeder Mensch ist ein geliebter Geizsohn oder eine geliebte Geiztochter himmlischer Eltern. Präsident Thomas S. Monson hat bezeugt, wir sind Söhne und Töchter des lebendigen Gottes. Man kann davon nicht ernsthaft überzeugt sein, ohne neue Kraft und innere Stärke zu spüren. Diese Lehre ist so elementar, wird so oft wiederholt und ist schon beim ersten Hören so einfach, dass sie einem gewöhnlich vorkommen kann. Doch in Wirklichkeit gehört sie zu den außergewöhnlichsten Erkenntnissen, die wir erlangen können. Das richtige Verständnis unseres himmlischen Erbes ist für die Erhöhung unerlässlich. Es schafft die Grundlage dafür, dass wir den herrlichen Erlösungsplan begreifen und unseren Glauben an den Erstgeborenen des Vaters, Jesus, den Messias, und an sein barmherziges Sühnopfer nähren. Außerdem spornt es uns beständig dazu an, unverzichtbare und ewige Bündnisse mit Gott zu schließen und zu halten. Bestimmt könnten fast alle Anwesenden jetzt sofort ohne Text oder Noten das Lied »Ich bin ein Kind von Gott« singen. Kaum ein Lied wird bei uns in der Kirche so häufig gesungen wie dieses. Aber die entscheidende Frage lautet, wissen wir das auch wirklich? Haben wir es mit unserem Verstand, unserem Herzen und unserer Seele begriffen? Wird unsere Identität in erster Linie und vor allem dadurch bestimmt, dass wir himmlische Eltern haben? Hier auf Erden bestimmen wir unsere Identität ja auf vielerlei Weise, zum Beispiel anhand des Geburtsorts, der Nationalität oder der Sprache. Für manche ist sogar ihr Beruf oder ihr Hobby ein wichtiges Identitätsmerkmal. An einer solchen irdischen Identität ist nichts verkehrt, es sei denn, sie verdrängt oder überlagert unsere ewige Identität, nämlich die, dass wir ein Sohn oder eine Tochter Gottes sind. Als unser jüngstes Kind sechs Jahre alt und in der ersten Klasse war, gab die Lehrerin den Kindern im Unterricht eine kleine Schreibübung auf. Es war im Oktober, dem Monat, in dem wir in manchen Ländern Halloween feiern. Das ist zwar nicht gerade mein Lieblingsfeiertag, aber vielleicht hat Halloween ja auch ein paar harmlose oder nützliche Aspekte. Die Lehrerin gab jedem ihrer jungen Schüler ein Blatt Papier. Oben auf dem Papier war eine Hexe skizziert. Wie gesagt, das ist nicht mein Lieblingsfeiertag. Eine Hexe, die sich über einen Kessel mit einer kochenden Flüssigkeit beugte. Darunter stand eine Frage, die die Fantasie der Kinder anregen sollte und sie nun, um ihre Grundkenntnisse im Schreiben zu testen, beantworten sollten. Sie lautete, du hast gerade einen Becher vom Hexentrank getrunken. Was geschieht mit dir? Übrigens, diese Geschichte ist nicht als Anregung für Lehrer gedacht. Du hast gerade einen Becher vom Hexentrank getrunken. Was geschieht mit dir? In ihrer besten Erstklässler-Handschrift schrieb unsere Kleine, ich sterbe und komme in den Himmel. Dort wird es mir sehr gefallen. Ich wäre sehr gerne dort, weil es da am schönsten ist. Da ist man nämlich beim Vater im Himmel. Diese Antwort hat ihre Lehrerin wahrscheinlich überrascht. Als unsere Tochter jedoch ihre Arbeit heimbrachte, sahen wir, dass sie dafür ein Sternchen, also die beste Note, erhalten hatte. Im wahren Leben stehen wir echten, nicht erfundenen Schwierigkeiten gegenüber. Wir erleben Schmerz, körperlich, seelisch und geistig. Wir erleben Kummer, wenn Gegebenheiten ganz anders sind, als wir es erwartet hatten. Wir erleben Ungerechtigkeit, wenn wir meinen, wir hätten die Lage, in der wir uns befinden, nicht verdient. Wir erleben Enttäuschung, wenn jemand unser Vertrauen erschüttert hat. Wir erleben gesundheitliche oder finanzielle Rückschläge, die uns mitunter ratlos machen. Wir erleben bisweilen Zeiten des Zweifelns, wenn ein Punkt der Lehre oder der Geschichte unser derzeitiges Verständnis übersteigt. Wenn Schwieriges in unserem Leben geschieht, was ist dann unsere erste Reaktion? Verwirrung? Oder Zweifel? Oder ziehen wir uns geistig gesehen zurück? Versetzt es unserem Glauben einen Schlag? Geben wir Gott oder anderen die Schuld an unserer Lebenslage? Oder ist unsere erste Reaktion die, daran zu denken, wer wir sind? Kinder eines liebevollen Gottes? Und ist unsere Reaktion mit dem uneingeschränkten Vertrauen darauf verbunden, dass Gott ein Maß an irdischem Leid zulässt, weil er weiß, dass er uns wie das Feuer im Schmelzofen ein Segen sein wird, wir wie er werden und unser ewiges Erbe erlangen können? Unlängst war ich mit Elder Jeffrey R. Holland in einer Versammlung. Er erläuterte den Grundsatz, dass das Erdenleben eine Qual sein kann, unsere Schwierigkeiten jedoch einen ewigen Zweck erfüllen, auch wenn wir diesen in jenem Moment noch nicht verstehen. Er sagte, man kann haben, was man möchte, oder man kann etwas Besseres haben. Vor fünf Monaten begleiteten meine Frau Diane und ich Elder David I. Bednar und seine Frau nach Afrika. Das sechste und letzte Land, das wir besuchten, war Liberia. Liberia ist ein großartiges, geschichtsträchtiges Land mit edlen Menschen, aber das Leben dort war und ist nicht leicht. Jahrzehntelange politische Instabilität und Bürgerkriege haben die Plage der Armut noch verschlimmert. Und als wäre das nicht genug, fielen bei dem letzten Ebola-Ausbruch fast 5.000 Menschen dieser gefürchteten Krankheit zum Opfer. Wir waren die erste Gruppe kirchlicher Führer von außerhalb des betroffenen Gebiets, die die Hauptstadt Monrovia besuchten, seit die Weltgesundheitsorganisation die Reise dorthin nach der Ebola-Krise für sicher erklärt hatte. An einem sehr heißen, schwülen Sonntagmorgen fuhren wir zu einem in der Stadtmitte gelegenen gemieteten Versammlungsgebäude. Der verfügbare Stuhl war aufgestellt worden. Es gab 3.500 Sitzplätze. Insgesamt wurden 4.100 Anwesende gezählt. Fast alle, die kamen, hatten die Strecke zu Fuß oder mit einem unbequemen öffentlichen Verkehrsmittel zurücklegen müssen. Es war für die Heiligen nicht leicht, sich zu versammeln. Doch sie kamen. Die meisten trafen mehrere Stunden vor dem festgesetzten Versammlungsbeginn ein. Als wir die Halle betraten, war die geistige Atmosphäre elektrisierend. Die Heiligen waren bereit, unterwiesen zu werden. Wenn ein Sprecher eine Schriftstelle zitierte, sagten die Mitglieder den Vers laut auf, ganz gleich, ob die Schriftstelle kurz oder lang war. Alle Anwesenden sprachen sie einstimmig nach. Wir empfehlen das zwar nicht unbedingt weiter, aber es war doch äußerst beeindruckend, dass die Mitglieder dazu fähig waren. Und der Chor, er war großartig. Der Dirigent war voller Begeisterung. Am Keyboard saß ein 14-Jähriger und die Chormitglieder sangen aus voller Kehle. Dann sprach Elder Bednar. Das war natürlich der erwartete Höhepunkt der Versammlung, den Worten und dem Zeugnis eines Apostels zu lauschen. Offenkundig, vom Geist geführt, hielt Aldabedna mitten in seiner Ansprache inne und fragte, Kennen Sie das Lied, O Fest wie ein Felsen? Es schien, als ob 4100 Stimmen Ja sagten. Daraufhin fragte er, Kennen Sie die siebte Strophe? Wieder erschallte es wie aus einem Mund, Ja. Früher war die siebte Strophe im deutschen Gesangbuch die vierte, nicht oft gesungen worden. Seit mittlerweile zehn Jahren gehört sie zu der Bearbeitung, die der Tabernakel-Chor von diesem beeindruckenden Kirchenlied singt. Elder Bettner forderte die Anwesenden auf, lassen Sie uns die erste, zweite, dritte und siebte Strophe singen. Ohne zu zögern sprang der Chorleiter auf und der Pianist, dieser junge Träger des saronischen Priestertums, stimmte die ersten Takte sogleich schwungvoll an. Wir sangen die erste, zweite und dritte Strophe mit einer solchen Überzeugung, wie ich es in der Kirche noch nie erlebt habe, wenn eine Gemeinde singt. Dann schraubten sich Lautstärke und geistige Kraft noch weiter empor, als 4100 Stimmen die siebte Strophe sangen. Mein Herz, das an Jesus sich lehnt mit Vertrauen, kann sicher auf deine Verheißungen bauen. Und mag alle Hölle auch gegen mich sein, du lässt es mich nimmer, du lässt es mich nimmer, du lässt es mich nimmer und nimmer allein. Bei einem der erstaunlichsten geistigen Erlebnisse meines Lebens lernte ich an diesem Tag eine tiefgründige Lektion. Wir leben in einer Welt, die uns mitunter vergessen lässt, wer wir wirklich sind. Je mehr Ablenkungen uns umgeben, desto leichter ist es, unsere Verbindung zu Gott zu vernachlässigen, dann zu ignorieren und schließlich zu vergessen. Die Heiligen in Liberia haben materiell gesehen nicht viel, und dennoch haben sie geistig gesehen offenbar alles. Was wir an jenem Tag in Monrovia sahen, war eine Gruppe von Söhnen und Töchtern Gottes, die wussten, wer sie waren. In der heutigen Welt, ganz gleich, wo wir leben und wie unsere Lebensumstände sind, ist es unerlässlich, dass wir uns vor allem als Kind Gottes betrachten. Wenn wir unsere Identität kennen, kann unser Glaube gedeihen. Wir werden ermuntert, immer wieder umzukehren und erhalten die Kraft, auf unserer irdischen Reise stets standhaft und unverrückbar zu sein. Im Namen Jesu Christi. Amen.\n"
     ]
    }
   ],
   "source": [
    "import assemblyai as aai\n",
    "import requests\n",
    "\n",
    "aai.settings.api_key = \"128f6a73223443e78c8f67e9cdc3b059\"\n",
    "\n",
    "# language set as german (de)\n",
    "# https://www.assemblyai.com/docs/Concepts/supported_languages\n",
    "config = aai.TranscriptionConfig(language_code=\"de\")\n",
    "transcriber = aai.Transcriber(config = config)\n",
    "\n",
    "### EDIT THIS ###\n",
    "link = \"https://www.churchofjesuschrist.org/study/general-conference/2016/04/i-am-a-child-of-god?lang=deu\"\n",
    "### EDIT THIS ###\n",
    "\n",
    "# generate download link\n",
    "\n",
    "\n",
    "# download the video\n",
    "# r = requests.get(download_link, allow_redirects=True)\n",
    "# open('video.mp4', 'wb').write(r.content)\n",
    "\n",
    "# transcribe video\n",
    "# transcript = transcriber.transcribe(\"video.mp4\")\n",
    "download_link = get_download_link(link)\n",
    "transcript = transcriber.transcribe(download_link)\n",
    "\n",
    "print(transcript.text)\n",
    "\n",
    "# export the srt file\n",
    "f = open(\"srt_export.srt\", \"w\")\n",
    "f.write(transcript.export_subtitles_srt())\n",
    "f.close()"
   ]
  },
  {
   "cell_type": "code",
   "execution_count": 5,
   "metadata": {
    "id": "vRmOf6hDmVMJ"
   },
   "outputs": [],
   "source": [
    "# Place files in this path or modify the paths to point to where the files are\n",
    "srtfilename = \"srt_export.srt\"\n",
    "mp4filename = \"video.mp4\""
   ]
  },
  {
   "cell_type": "code",
   "execution_count": 6,
   "metadata": {
    "id": "ECMvgOr-oI3O"
   },
   "outputs": [
    {
     "name": "stdout",
     "output_type": "stream",
     "text": [
      "Output file name:  video_subtitled.mp4\n",
      "Moviepy - Building video video_subtitled.mp4.\n",
      "MoviePy - Writing audio in video_subtitledTEMP_MPY_wvf_snd.mp3\n"
     ]
    },
    {
     "name": "stderr",
     "output_type": "stream",
     "text": [
      "                                                                                                                       \r"
     ]
    },
    {
     "name": "stdout",
     "output_type": "stream",
     "text": [
      "MoviePy - Done.\n",
      "Moviepy - Writing video video_subtitled.mp4\n",
      "\n"
     ]
    },
    {
     "name": "stderr",
     "output_type": "stream",
     "text": [
      "t:  37%|███████████████████████▍                                        | 7584/20674 [02:06<03:48, 57.23it/s, now=None]C:\\Users\\Alpine Missionary\\AppData\\Local\\Programs\\Python\\Python311\\Lib\\site-packages\\moviepy\\video\\io\\ffmpeg_reader.py:154: UserWarning: In file video.mp4, 6220800 bytes wanted but 0 bytes read,at frame index 7583 (out of a total 7583 frames), at time 253.02/253.02 sec. Using the last valid frame instead.\n",
      "  warnings.warn(\n",
      "                                                                                                                       "
     ]
    },
    {
     "name": "stdout",
     "output_type": "stream",
     "text": [
      "Moviepy - Done !\n",
      "Moviepy - video ready video_subtitled.mp4\n"
     ]
    },
    {
     "name": "stderr",
     "output_type": "stream",
     "text": [
      "\r"
     ]
    }
   ],
   "source": [
    "import sys\n",
    "import pysrt\n",
    "from moviepy.editor import VideoFileClip, TextClip, CompositeVideoClip\n",
    "from moviepy.video.fx.all import crop\n",
    "from moviepy.video.tools.subtitles import SubtitlesClip\n",
    "\n",
    "def crop_video(mp4filename):\n",
    "    # crop video\n",
    "    video = VideoFileClip(mp4filename)\n",
    "    (w, h) = video.size\n",
    "    nw = w\n",
    "    \n",
    "    if (w,h) == (1280,720):\n",
    "        nw = 406\n",
    "    if (w,h) == (1920, 1080):\n",
    "        nw = 608\n",
    "    \n",
    "    video = crop(video, width=nw, height=h, x_center=w//2)\n",
    "\n",
    "    return video\n",
    "\n",
    "# # SubtitlesClip object generated with lambda function\n",
    "# generator = lambda txt: TextClip(txt, font='Arial', fontsize=24, color='white')\n",
    "# sub = SubtitlesClip(\"srt_export.srt\", generator)\n",
    "\n",
    "\n",
    "\n",
    "def time_to_seconds(time_obj):\n",
    "    return time_obj.hours * 3600 + time_obj.minutes * 60 + time_obj.seconds + time_obj.milliseconds / 1000\n",
    "\n",
    "\n",
    "def create_subtitle_clips(subtitles, videosize,fontsize=30, font='Arial', color='white', debug = False):\n",
    "    subtitle_clips = []\n",
    "\n",
    "    for subtitle in subtitles:\n",
    "        start_time = time_to_seconds(subtitle.start)\n",
    "        end_time = time_to_seconds(subtitle.end)\n",
    "        duration = end_time - start_time\n",
    "\n",
    "        video_width, video_height = videosize\n",
    "        \n",
    "        text_clip = TextClip(subtitle.text, fontsize=fontsize, font=font, color=color, bg_color = 'black',size=(video_width*3/4, None), method='caption').set_start(start_time).set_duration(duration)\n",
    "        subtitle_x_position = 'center'\n",
    "        subtitle_y_position = video_height * .6\n",
    "\n",
    "        text_position = (subtitle_x_position, subtitle_y_position)  \n",
    "        subtitle_clips.append(text_clip.set_position(text_position))\n",
    "\n",
    "    return subtitle_clips\n",
    "\n",
    "\n",
    "# Process video\n",
    "\n",
    "video = crop_video(mp4filename)\n",
    "# Load video and SRT file\n",
    "subtitles = pysrt.open(srtfilename, encoding=\"iso-8859-1\")\n",
    "\n",
    "# Create subtitle clips\n",
    "subtitle_clips = create_subtitle_clips(subtitles,video.size)\n",
    "\n",
    "# Add subtitles to the video\n",
    "final_video = CompositeVideoClip([video] + subtitle_clips)\n",
    "\n",
    "# Write output video file\n",
    "final_video.write_videofile('video_subtitled.mp4')\n",
    "\n",
    "\n"
   ]
  },
  {
   "cell_type": "code",
   "execution_count": null,
   "metadata": {},
   "outputs": [],
   "source": []
  }
 ],
 "metadata": {
  "colab": {
   "authorship_tag": "ABX9TyND01ynTze2b6I0hLH7YVBW",
   "include_colab_link": true,
   "provenance": []
  },
  "kernelspec": {
   "display_name": "Python 3 (ipykernel)",
   "language": "python",
   "name": "python3"
  },
  "language_info": {
   "codemirror_mode": {
    "name": "ipython",
    "version": 3
   },
   "file_extension": ".py",
   "mimetype": "text/x-python",
   "name": "python",
   "nbconvert_exporter": "python",
   "pygments_lexer": "ipython3",
   "version": "3.11.5"
  }
 },
 "nbformat": 4,
 "nbformat_minor": 4
}
