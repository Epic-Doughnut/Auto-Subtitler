{
 "cells": [
  {
   "cell_type": "code",
   "execution_count": 52,
   "id": "3035aad0-1474-4664-a514-6cf1af886631",
   "metadata": {},
   "outputs": [
    {
     "name": "stdout",
     "output_type": "stream",
     "text": [
      "https://media2.ldscdn.org/assets/general-conference/april-2016-general-conference/2016-04-4010-thomas-s-monson-1080p-deu.mp4?download=true\n"
     ]
    }
   ],
   "source": [
    "from bs4 import BeautifulSoup\n",
    "from bisect import bisect_left\n",
    "from calendar import month_name\n",
    "\n",
    "import requests\n",
    "\n",
    "link = \"https://www.churchofjesuschrist.org/study/general-conference/2016/04/choices?lang=deu\"\n",
    "lds,link_suffix = link.split(\".org\")\n",
    "conf_info,talk_lang_info = link_suffix.rsplit(\"/\", 1)\n",
    "talk,lang = talk_lang_info.rsplit(\"?\",1)\n",
    "\n",
    "#https://media2.ldscdn.org/assets/general-conference/april-2016-general-conference/2016-04-4010-thomas-s-monson-1080p-deu.mp4?download=true\n",
    "#class = d-links link-1080-a06a8bdc93632558c9e7f284f6e9a847768e8621\n",
    "r = requests.get(link)\n",
    "soup=BeautifulSoup(r.content,\"html.parser\", multi_valued_attributes=None)\n",
    "\n",
    "all_links = [x.get('href') for x in soup.find_all('a')]\n",
    "\n",
    "## Figure out the 4 digit code for this talk\n",
    "\n",
    "# get reference indices of the sessions\n",
    "sessions = [\"priesthood-session\", \"womens-session\", \"saturday-morning-session\", \"saturday-afternoon-session\", \"saturday-evening-session\", \"sunday-morning-session\", \"sunday-afternoon-session\", \"sunday-evening-session\"]\n",
    "session_indices = []\n",
    "for s in sessions:\n",
    "    try:\n",
    "        session_indices.append( all_links.index((conf_info + '/' + s + '?' + lang)))\n",
    "    except:\n",
    "        continue\n",
    "session_indices.sort()\n",
    "\n",
    "# find the index of our talk\n",
    "my_index = all_links.index(link_suffix)\n",
    "# print(session_indices, my_index)\n",
    "\n",
    "# find out which session we're in\n",
    "# which session number is this? (determines first digit, 0-indexed)\n",
    "talk_session_number = bisect_left(session_indices, my_index) - 1\n",
    "\n",
    "# second number\n",
    "second = my_index - session_indices[talk_session_number]\n",
    "\n",
    "# combine 4 digit code\n",
    "talk_id =  str(talk_session_number) + \"0\" + str(second) + \"0\"\n",
    "# print(talk_session_number, second, talk_id)\n",
    "\n",
    "## get download link\n",
    "# determine month\n",
    "month = \"\"\n",
    "if conf_info[-2:] == \"04\":\n",
    "    month = \"april\"\n",
    "elif conf_info[-2:] == \"10\":\n",
    "    month = \"october\"\n",
    "else:\n",
    "    print(\"ERROR, weird month in URL\")\n",
    "    quit()\n",
    "\n",
    "year = conf_info[-7:-3]\n",
    "\n",
    "talk_text=soup.find(class_=\"body-block\").get_text()\n",
    "speaker = soup.find(class_=\"byline\").get_text()\n",
    "# print(speaker)\n",
    "speaker = speaker.split(\" \", 1)[1]\n",
    "speaker = speaker.split('\\n')[0]\n",
    "speaker = speaker.replace(u'\\xa0', u' ') # remove weird encoding chars\n",
    "# print(speaker.split(' '))\n",
    "speaker = '-'.join(speaker.split(' '))\n",
    "speaker = speaker.replace(\".\", '').lower()\n",
    "# print(speaker)\n",
    "\n",
    "download_link=\"https://media2.ldscdn.org/assets/general-conference/\" + month + \"-\" + str(year) + \"-general-conference/\" + str(year) + \"-\" + conf_info[-2:] + \"-\" + talk_id + \"-\" + speaker + \"-1080p-deu.mp4?download=true\"\n",
    "print(download_link)"
   ]
  },
  {
   "cell_type": "code",
   "execution_count": 53,
   "id": "ffd5328c-1d17-467a-b74f-6c309238994b",
   "metadata": {},
   "outputs": [
    {
     "name": "stdout",
     "output_type": "stream",
     "text": [
      "Brüder und Schwestern, ehe ich heute mit meiner offiziellen Botschaft beginne, möchte ich vier neue Tempel ankündigen, die in den kommenden Monaten und Jahren an den folgenden Orten errichtet werden. Quito in Ecuador, Harare in Zimbabwe, Belém in Brasilien und ein zweiter Tempel in Lima in Peru. Als ich 1963 Mitglied des Kollegiums der Zwölf Apostel wurde, hatte die Kirche gerade einmal zwölf Tempel in Betrieb. Mit der Weihung des Stadtmitte-Provo-Juta-Tempels vor zwei Wochen sind weltweit nun 150 Tempel in Betrieb. Wie dankbar wir doch für die Segnungen sind, die wir in diesen heiligen Häusern empfangen. Brüder und Schwestern, Ich bin dankbar, dass ich jetzt die Gelegenheit habe, Ihnen heute Vormittag einige Gedanken mitzuteilen. Ich habe in letzter Zeit über Entscheidungen nachgedacht. Man sagt, die Tür der Geschichte hänge in kleinen Angeln. Und so ist es auch mit dem Leben des Menschen. Unsere Entscheidungen bestimmen unser Schicksal. Als wir das vorirdische Dasein verließen und auf die Erde kamen, brachten wir als Gabe die Entscheidungsfreiheit mit. Unser Ziel besteht darin, zelestiale Herrlichkeit zu erlangen, und unsere Entscheidungen tragen ganz wesentlich dazu bei, ob wir unser Ziel erreichen oder nicht. Die meisten von Ihnen kennen Alice aus Lewis Carrolls klassischem Roman Alice im Wunderland. Wie Sie vielleicht wissen, kommt Alice an eine Weggabelung. Von dort führen zwei Wege weiter, allerdings in entgegengesetzte Richtungen. Während sie darüber nachdenkt, welchen Weg sie nehmen soll, begegnet ihr die Grinsekatze. Sie fragt die Katze, welchen Weg sie gehen soll. Die Katze erwidert, das hängt davon ab, wohin du willst. Wenn du nicht weißt, wohin du willst, dann kommt es auch nicht darauf an, welchen Weg du nimmst. Im Gegensatz zu Alice wissen wir, wohin wir wollen, und dass es nicht gleich ist, welchen Weg wir gehen. Denn der Weg, den wir in diesem Leben beschreiten, führt zu unserem Bestimmungsort im nächsten Leben. Mögen wir uns dazu entscheiden, großen und machtvollen Glauben zu entwickeln, der unsere wirksamste Verteidigung gegen die Absichten des Widersachers sein wird. Einen sicheren Glauben, die Art von Glauben, die uns stützt und die unseren Wunsch stärkt, das Rechte zu wählen. Ohne einen solchen Glauben gelangen wir nirgendwohin. Mit ihm können wir unsere Ziele erreichen. Auch wenn es wichtig ist, dass wir kluge Entscheidungen treffen, Ja, in der Tat, es kommt manchmal vor, dass wir törichte Entscheidungen treffen. Das Geschenk Umkehr, das wir unserem Erretter verdanken, ermöglicht uns, unseren Kurs zu berichtigen, damit wir wieder auf den Weg zurückkehren können, der uns zur celestialen Herrlichkeit führt, nach der wir ja streben. Mögen wir doch den Mut aufbringen, nicht zu allem Ja und Amen zu sagen, mögen wir stets das Rechte wählen. auch wenn es schwieriger ist, statt das Falsche, selbst wenn das einfacher ist. Wenn wir über die Entscheidung nachdenken, die wir täglich in unserem Leben treffen, ob wir uns nun für das eine oder das andere entscheiden sollen, wenn wir uns für Christus entscheiden, haben wir die richtige Entscheidung getroffen. Dass dies stets so sein möge, ist mein aufrichtiges und demütiges Gebet. Im Namen Jesu Christi, unseres Herrn und der Retters. Amen.\n"
     ]
    }
   ],
   "source": [
    "import assemblyai as aai\n",
    "import requests\n",
    "\n",
    "aai.settings.api_key = \"128f6a73223443e78c8f67e9cdc3b059\"\n",
    "\n",
    "# language set as german (de)\n",
    "# https://www.assemblyai.com/docs/Concepts/supported_languages\n",
    "config = aai.TranscriptionConfig(language_code=\"de\")\n",
    "transcriber = aai.Transcriber(config = config)\n",
    "\n",
    "# download the video\n",
    "r = requests.get(download_link, allow_redirects=True)\n",
    "open('video.mp4', 'wb').write(r.content)\n",
    "\n",
    "# transcribe video\n",
    "transcript = transcriber.transcribe(\"video.mp4\")\n",
    "\n",
    "# transcript = transcriber.transcribe(download_link)\n",
    "\n",
    "\n",
    "\n",
    "print(transcript.text)\n",
    "\n",
    "# export the srt file\n",
    "f = open(\"srt_export.srt\", \"w\")\n",
    "f.write(transcript.export_subtitles_srt())\n",
    "f.close()"
   ]
  },
  {
   "cell_type": "code",
   "execution_count": null,
   "id": "925f315b-765d-4851-898a-63e3939e3f5c",
   "metadata": {},
   "outputs": [],
   "source": []
  }
 ],
 "metadata": {
  "kernelspec": {
   "display_name": "Python 3 (ipykernel)",
   "language": "python",
   "name": "python3"
  },
  "language_info": {
   "codemirror_mode": {
    "name": "ipython",
    "version": 3
   },
   "file_extension": ".py",
   "mimetype": "text/x-python",
   "name": "python",
   "nbconvert_exporter": "python",
   "pygments_lexer": "ipython3",
   "version": "3.11.5"
  }
 },
 "nbformat": 4,
 "nbformat_minor": 5
}
